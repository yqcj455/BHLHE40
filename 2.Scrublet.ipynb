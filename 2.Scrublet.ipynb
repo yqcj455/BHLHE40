{
 "cells": [
  {
   "cell_type": "code",
   "execution_count": 1,
   "id": "452d7cb9",
   "metadata": {},
   "outputs": [],
   "source": [
    "%matplotlib inline\n",
    "import scrublet as scr\n",
    "import scipy.io\n",
    "import matplotlib.pyplot as plt\n",
    "import numpy as np\n",
    "import os\n",
    "import pandas as pd\n",
    "import scanpy as sc\n",
    "import gc  # 导入垃圾回收模块\n",
    "from tqdm import tqdm"
   ]
  },
  {
   "cell_type": "code",
   "execution_count": 2,
   "id": "bb1bcaf6",
   "metadata": {},
   "outputs": [
    {
     "name": "stderr",
     "output_type": "stream",
     "text": [
      "\r\n",
      "Processing folders...:   0%|                                                        | 0/13 [00:00<?, ?it/s]"
     ]
    },
    {
     "name": "stdout",
     "output_type": "stream",
     "text": [
      "Counts matrix shape: 8082 rows, 36601 columns\n",
      "Number of genes in gene list: 36601\n",
      "Preprocessing...\n",
      "Simulating doublets...\n",
      "Embedding transcriptomes using PCA...\n",
      "Calculating doublet scores...\n",
      "Automatically set threshold at doublet score = 0.64\n",
      "Detected doublet rate = 0.0%\n",
      "Estimated detectable doublet fraction = 0.4%\n",
      "Overall doublet rate:\n",
      "\tExpected   = 6.0%\n",
      "\tEstimated  = 7.0%\n",
      "Elapsed time: 14.4 seconds\n"
     ]
    },
    {
     "name": "stderr",
     "output_type": "stream",
     "text": [
      "/home/yqcj/miniconda3/envs/scrublet/lib/python3.9/site-packages/tqdm/auto.py:21: TqdmWarning: IProgress not found. Please update jupyter and ipywidgets. See https://ipywidgets.readthedocs.io/en/stable/user_install.html\n",
      "  from .autonotebook import tqdm as notebook_tqdm\n",
      "Processing folders...:   8%|███▋                                            | 1/13 [01:32<18:30, 92.51s/it]"
     ]
    },
    {
     "name": "stdout",
     "output_type": "stream",
     "text": [
      "Counts matrix shape: 9569 rows, 36601 columns\n",
      "Number of genes in gene list: 36601\n",
      "Preprocessing...\n",
      "Simulating doublets...\n",
      "Embedding transcriptomes using PCA...\n",
      "Calculating doublet scores...\n",
      "Automatically set threshold at doublet score = 0.58\n",
      "Detected doublet rate = 0.0%\n",
      "Estimated detectable doublet fraction = 0.1%\n",
      "Overall doublet rate:\n",
      "\tExpected   = 6.0%\n",
      "\tEstimated  = 16.7%\n",
      "Elapsed time: 17.5 seconds\n"
     ]
    },
    {
     "name": "stderr",
     "output_type": "stream",
     "text": [
      "\r\n",
      "Processing folders...:  15%|███████▍                                        | 2/13 [03:07<17:14, 94.05s/it]"
     ]
    },
    {
     "name": "stdout",
     "output_type": "stream",
     "text": [
      "Counts matrix shape: 9246 rows, 36601 columns\n",
      "Number of genes in gene list: 36601\n",
      "Preprocessing...\n",
      "Simulating doublets...\n",
      "Embedding transcriptomes using PCA...\n",
      "Calculating doublet scores...\n",
      "Automatically set threshold at doublet score = 0.58\n",
      "Detected doublet rate = 0.0%\n",
      "Estimated detectable doublet fraction = 0.3%\n",
      "Overall doublet rate:\n",
      "\tExpected   = 6.0%\n",
      "\tEstimated  = 7.1%\n",
      "Elapsed time: 16.9 seconds\n"
     ]
    },
    {
     "name": "stderr",
     "output_type": "stream",
     "text": [
      "\r\n",
      "Processing folders...:  23%|███████████                                     | 3/13 [04:38<15:26, 92.62s/it]"
     ]
    },
    {
     "name": "stdout",
     "output_type": "stream",
     "text": [
      "Counts matrix shape: 13366 rows, 36601 columns\n",
      "Number of genes in gene list: 36601\n",
      "Preprocessing...\n",
      "Simulating doublets...\n",
      "Embedding transcriptomes using PCA...\n",
      "Calculating doublet scores...\n",
      "Automatically set threshold at doublet score = 0.22\n",
      "Detected doublet rate = 4.0%\n",
      "Estimated detectable doublet fraction = 25.3%\n",
      "Overall doublet rate:\n",
      "\tExpected   = 6.0%\n",
      "\tEstimated  = 16.0%\n",
      "Elapsed time: 30.8 seconds\n"
     ]
    },
    {
     "name": "stderr",
     "output_type": "stream",
     "text": [
      "\r\n",
      "Processing folders...:  31%|██████████████▍                                | 4/13 [07:41<19:15, 128.36s/it]"
     ]
    },
    {
     "name": "stdout",
     "output_type": "stream",
     "text": [
      "Counts matrix shape: 5610 rows, 36601 columns\n",
      "Number of genes in gene list: 36601\n",
      "Preprocessing...\n",
      "Simulating doublets...\n",
      "Embedding transcriptomes using PCA...\n",
      "Calculating doublet scores...\n",
      "Automatically set threshold at doublet score = 0.60\n",
      "Detected doublet rate = 0.0%\n",
      "Estimated detectable doublet fraction = 0.9%\n",
      "Overall doublet rate:\n",
      "\tExpected   = 6.0%\n",
      "\tEstimated  = 3.8%\n",
      "Elapsed time: 9.6 seconds\n"
     ]
    },
    {
     "name": "stderr",
     "output_type": "stream",
     "text": [
      "\r\n",
      "Processing folders...:  38%|██████████████████▍                             | 5/13 [08:27<13:09, 98.69s/it]"
     ]
    },
    {
     "name": "stdout",
     "output_type": "stream",
     "text": [
      "Counts matrix shape: 11859 rows, 36601 columns\n",
      "Number of genes in gene list: 36601\n",
      "Preprocessing...\n",
      "Simulating doublets...\n",
      "Embedding transcriptomes using PCA...\n",
      "Calculating doublet scores...\n",
      "Automatically set threshold at doublet score = 0.69\n",
      "Detected doublet rate = 0.0%\n",
      "Estimated detectable doublet fraction = 0.3%\n",
      "Overall doublet rate:\n",
      "\tExpected   = 6.0%\n",
      "\tEstimated  = 6.6%\n",
      "Elapsed time: 18.4 seconds\n"
     ]
    },
    {
     "name": "stderr",
     "output_type": "stream",
     "text": [
      "\r\n",
      "Processing folders...:  46%|██████████████████████▏                         | 6/13 [09:35<10:16, 88.11s/it]"
     ]
    },
    {
     "name": "stdout",
     "output_type": "stream",
     "text": [
      "Counts matrix shape: 5636 rows, 36601 columns\n",
      "Number of genes in gene list: 36601\n",
      "Preprocessing...\n",
      "Simulating doublets...\n",
      "Embedding transcriptomes using PCA...\n",
      "Calculating doublet scores...\n",
      "Automatically set threshold at doublet score = 0.60\n",
      "Detected doublet rate = 0.0%\n",
      "Estimated detectable doublet fraction = 1.7%\n",
      "Overall doublet rate:\n",
      "\tExpected   = 6.0%\n",
      "\tEstimated  = 2.1%\n",
      "Elapsed time: 8.5 seconds\n"
     ]
    },
    {
     "name": "stderr",
     "output_type": "stream",
     "text": [
      "\r\n",
      "Processing folders...:  54%|█████████████████████████▊                      | 7/13 [10:15<07:14, 72.46s/it]"
     ]
    },
    {
     "name": "stdout",
     "output_type": "stream",
     "text": [
      "Counts matrix shape: 14517 rows, 36601 columns\n",
      "Number of genes in gene list: 36601\n",
      "Preprocessing...\n",
      "Simulating doublets...\n",
      "Embedding transcriptomes using PCA...\n",
      "Calculating doublet scores...\n",
      "Automatically set threshold at doublet score = 0.23\n",
      "Detected doublet rate = 3.2%\n",
      "Estimated detectable doublet fraction = 26.2%\n",
      "Overall doublet rate:\n",
      "\tExpected   = 6.0%\n",
      "\tEstimated  = 12.4%\n",
      "Elapsed time: 31.7 seconds\n"
     ]
    },
    {
     "name": "stderr",
     "output_type": "stream",
     "text": [
      "\r\n",
      "Processing folders...:  62%|█████████████████████████████▌                  | 8/13 [12:10<07:09, 85.92s/it]"
     ]
    },
    {
     "name": "stdout",
     "output_type": "stream",
     "text": [
      "Counts matrix shape: 10209 rows, 36601 columns\n",
      "Number of genes in gene list: 36601\n",
      "Preprocessing...\n",
      "Simulating doublets...\n",
      "Embedding transcriptomes using PCA...\n",
      "Calculating doublet scores...\n",
      "Automatically set threshold at doublet score = 0.53\n",
      "Detected doublet rate = 0.0%\n",
      "Estimated detectable doublet fraction = 0.1%\n",
      "Overall doublet rate:\n",
      "\tExpected   = 6.0%\n",
      "\tEstimated  = 0.0%\n",
      "Elapsed time: 19.9 seconds\n"
     ]
    },
    {
     "name": "stderr",
     "output_type": "stream",
     "text": [
      "\r\n",
      "Processing folders...:  69%|█████████████████████████████████▏              | 9/13 [13:46<05:56, 89.02s/it]"
     ]
    },
    {
     "name": "stdout",
     "output_type": "stream",
     "text": [
      "Counts matrix shape: 7594 rows, 36601 columns\n",
      "Number of genes in gene list: 36601\n",
      "Preprocessing...\n",
      "Simulating doublets...\n",
      "Embedding transcriptomes using PCA...\n",
      "Calculating doublet scores...\n",
      "Automatically set threshold at doublet score = 0.26\n",
      "Detected doublet rate = 2.8%\n",
      "Estimated detectable doublet fraction = 31.8%\n",
      "Overall doublet rate:\n",
      "\tExpected   = 6.0%\n",
      "\tEstimated  = 8.9%\n",
      "Elapsed time: 11.6 seconds\n"
     ]
    },
    {
     "name": "stderr",
     "output_type": "stream",
     "text": [
      "\r\n",
      "Processing folders...:  77%|████████████████████████████████████▏          | 10/13 [14:39<03:54, 78.12s/it]"
     ]
    },
    {
     "name": "stdout",
     "output_type": "stream",
     "text": [
      "Counts matrix shape: 9561 rows, 36601 columns\n",
      "Number of genes in gene list: 36601\n",
      "Preprocessing...\n",
      "Simulating doublets...\n",
      "Embedding transcriptomes using PCA...\n",
      "Calculating doublet scores...\n",
      "Automatically set threshold at doublet score = 0.67\n",
      "Detected doublet rate = 0.0%\n",
      "Estimated detectable doublet fraction = 0.2%\n",
      "Overall doublet rate:\n",
      "\tExpected   = 6.0%\n",
      "\tEstimated  = 4.4%\n",
      "Elapsed time: 16.9 seconds\n"
     ]
    },
    {
     "name": "stderr",
     "output_type": "stream",
     "text": [
      "\r\n",
      "Processing folders...:  85%|███████████████████████████████████████▊       | 11/13 [16:12<02:44, 82.48s/it]"
     ]
    },
    {
     "name": "stdout",
     "output_type": "stream",
     "text": [
      "Counts matrix shape: 17028 rows, 36601 columns\n",
      "Number of genes in gene list: 36601\n",
      "Preprocessing...\n",
      "Simulating doublets...\n",
      "Embedding transcriptomes using PCA...\n",
      "Calculating doublet scores...\n",
      "Automatically set threshold at doublet score = 0.16\n",
      "Detected doublet rate = 6.4%\n",
      "Estimated detectable doublet fraction = 42.4%\n",
      "Overall doublet rate:\n",
      "\tExpected   = 6.0%\n",
      "\tEstimated  = 15.2%\n",
      "Elapsed time: 29.9 seconds\n"
     ]
    },
    {
     "name": "stderr",
     "output_type": "stream",
     "text": [
      "\r\n",
      "Processing folders...:  92%|███████████████████████████████████████████▍   | 12/13 [17:59<01:29, 89.96s/it]"
     ]
    },
    {
     "name": "stdout",
     "output_type": "stream",
     "text": [
      "Counts matrix shape: 13781 rows, 36601 columns\n",
      "Number of genes in gene list: 36601\n",
      "Preprocessing...\n",
      "Simulating doublets...\n",
      "Embedding transcriptomes using PCA...\n",
      "Calculating doublet scores...\n",
      "Automatically set threshold at doublet score = 0.71\n",
      "Detected doublet rate = 0.0%\n",
      "Estimated detectable doublet fraction = 0.3%\n",
      "Overall doublet rate:\n",
      "\tExpected   = 6.0%\n",
      "\tEstimated  = 5.6%\n",
      "Elapsed time: 25.9 seconds\n"
     ]
    },
    {
     "name": "stderr",
     "output_type": "stream",
     "text": [
      "Processing folders...: 100%|███████████████████████████████████████████████| 13/13 [19:50<00:00, 91.56s/it]\n"
     ]
    }
   ],
   "source": [
    "# Define the input and output directories\n",
    "input_dir = '/mnt/f/Xujianming_cellreport/{}'\n",
    "output_dir = '/mnt/f/Xujianming_cellreport/{}/'\n",
    "\n",
    "# List of folders to process\n",
    "srr_folders = [\n",
    "    'SRR15331893', 'SRR15331895', 'SRR15331897', 'SRR15331899',\n",
    "    'SRR15331901', 'SRR15331903', 'SRR15331905', 'SRR15331907',\n",
    "    'SRR15331909', 'SRR15331911', 'SRR15331913', 'SRR15331915',\n",
    "    'SRR15331917'\n",
    "]\n",
    "\n",
    "# Loop over all SRR folders, run Scrublet on each file, and save the results\n",
    "for srr_folder in tqdm(srr_folders, desc=\"Processing folders...\"):\n",
    "    try:\n",
    "        input_path = os.path.join(input_dir.format(srr_folder), 'filtered_feature_bc_matrix_SoupX_out')\n",
    "        output_path = output_dir.format(srr_folder)\n",
    "\n",
    "        # Check if the Scrublet results already exist\n",
    "        # Load counts matrix and gene list\n",
    "        counts_matrix = scipy.io.mmread(os.path.join(input_path, 'matrix.mtx')).T.tocsc()\n",
    "        genes = np.array(scr.load_genes(os.path.join(input_path, 'genes.tsv'), delimiter='\\t', column=1))\n",
    "        print('Counts matrix shape: {} rows, {} columns'.format(counts_matrix.shape[0], counts_matrix.shape[1]))\n",
    "        print('Number of genes in gene list: {}'.format(len(genes)))\n",
    "\n",
    "        # Initialize Scrublet object\n",
    "        scrub = scr.Scrublet(counts_matrix=counts_matrix, sim_doublet_ratio=2.0, n_neighbors=None, expected_doublet_rate=0.06)\n",
    "\n",
    "        # Run the default pipeline\n",
    "        doublet_scores, predicted_doublets = scrub.scrub_doublets(min_counts=2, min_cells=3, min_gene_variability_pctl=85, n_prin_comps=30)\n",
    "\n",
    "        # Get 2-D embedding to visualize the results\n",
    "        scrub.set_embedding('UMAP', scr.get_umap(X=scrub.manifold_obs_, n_neighbors=10, min_dist=0.3))\n",
    "\n",
    "        # Export Scrublet results\n",
    "        barcodes = pd.read_csv(os.path.join(input_path, 'barcodes.tsv'), delimiter='\\t', header=None)\n",
    "        result = pd.DataFrame([barcodes.iloc[:,0], doublet_scores, predicted_doublets], index=[\"barcode\", \"doublet_scores\",\"predicted_doublets\"]).T\n",
    "        result.to_csv(output_path + 'Scrublet_results.csv')\n",
    "\n",
    "        # Save as h5ad after Scrublet\n",
    "        adata = sc.read_10x_mtx(path=input_path, var_names='gene_symbols', cache=True)\n",
    "        adata.var_names_make_unique()\n",
    "        Cells=pd.read_csv(output_path + 'Scrublet_results.csv', index_col='barcode')\n",
    "        adata.obs['predicted_doublets']=Cells['predicted_doublets']\n",
    "        SAS=adata[adata.obs['predicted_doublets']==False]\n",
    "        SAS.write(output_path + 'raw_after_SoupX_Scrublet.h5ad', compression='gzip')\n",
    "        # Clear memory\n",
    "        del counts_matrix, genes, scrub, doublet_scores, predicted_doublets, barcodes, result, adata, Cells\n",
    "        plt.close('all')\n",
    "        gc.collect()\n",
    "    except FileNotFoundError:\n",
    "        print(f\"File not found for {srr_folder}. Skipping...\")\n",
    "        continue\n",
    "\n"
   ]
  },
  {
   "cell_type": "code",
   "execution_count": 3,
   "id": "fda4b4a8",
   "metadata": {},
   "outputs": [
    {
     "name": "stdout",
     "output_type": "stream",
     "text": [
      "Counts matrix shape: 13781 rows, 36601 columns\n",
      "Number of genes in gene list: 36601\n",
      "Preprocessing...\n",
      "Simulating doublets...\n",
      "Embedding transcriptomes using PCA...\n",
      "Calculating doublet scores...\n",
      "Automatically set threshold at doublet score = 0.71\n",
      "Detected doublet rate = 0.0%\n",
      "Estimated detectable doublet fraction = 0.3%\n",
      "Overall doublet rate:\n",
      "\tExpected   = 6.0%\n",
      "\tEstimated  = 5.6%\n",
      "Elapsed time: 26.1 seconds\n",
      "Detected doublet rate = 0.0%\n",
      "Estimated detectable doublet fraction = 0.7%\n",
      "Overall doublet rate:\n",
      "\tExpected   = 6.0%\n",
      "\tEstimated  = 5.5%\n"
     ]
    },
    {
     "data": {
      "image/png": "[encoded data removed]",
      "text/plain": [
       "<Figure size 800x300 with 2 Axes>"
      ]
     },
     "metadata": {},
     "output_type": "display_data"
    }
   ],
   "source": [
    "# Define the input and output directories\n",
    "input_dir = '/mnt/f/Xujianming_cellreport/{}'\n",
    "output_dir = '/mnt/f/Xujianming_cellreport/{}/'\n",
    "\n",
    "# List of folders to process\n",
    "srr_folders = [\n",
    "'SRR15465825'\n",
    "]\n",
    "input_path = os.path.join(input_dir.format(srr_folder), 'filtered_feature_bc_matrix_SoupX_out')\n",
    "output_path = output_dir.format(srr_folder)\n",
    "# Load counts matrix and gene list\n",
    "counts_matrix = scipy.io.mmread(os.path.join(input_path, 'matrix.mtx')).T.tocsc()\n",
    "genes = np.array(scr.load_genes(os.path.join(input_path, 'genes.tsv'), delimiter='\\t', column=1))\n",
    "print('Counts matrix shape: {} rows, {} columns'.format(counts_matrix.shape[0], counts_matrix.shape[1]))\n",
    "print('Number of genes in gene list: {}'.format(len(genes)))\n",
    "\n",
    "# Initialize Scrublet object\n",
    "scrub = scr.Scrublet(counts_matrix=counts_matrix, sim_doublet_ratio=2.0, n_neighbors=None, expected_doublet_rate=0.06)\n",
    "\n",
    "# Run the default pipeline\n",
    "doublet_scores = scrub.scrub_doublets(min_counts=2, min_cells=3, min_gene_variability_pctl=85, n_prin_comps=30)\n",
    "\n",
    "# Call doublets with a user-specified threshold\n",
    "predicted_doublets = scrub.call_doublets(threshold=0.62)\n",
    "\n",
    "# Get 2-D embedding to visualize the results\n",
    "scrub.set_embedding('UMAP', scr.get_umap(X=scrub.manifold_obs_, n_neighbors=10, min_dist=0.3))\n",
    "\n",
    "scrub.plot_histogram()\n",
    "\n",
    "# Export Scrublet results\n",
    "barcodes = pd.read_csv(os.path.join(input_path, 'barcodes.tsv'), delimiter='\\t', header=None)\n",
    "barcode_series = pd.Series(barcodes.iloc[:, 0], name=\"barcode\")\n",
    "doublet_scores_series = pd.Series(doublet_scores[0], name=\"doublet_scores\")\n",
    "predicted_doublets_series = pd.Series(predicted_doublets, name=\"predicted_doublets\")\n",
    "result = pd.concat([barcode_series, doublet_scores_series, predicted_doublets_series], axis=1)\n",
    "result.to_csv(output_path + 'Scrublet_results.csv')\n",
    "\n",
    "# Save as h5ad after Scrublet\n",
    "adata = sc.read_10x_mtx(path=input_path, var_names='gene_symbols', cache=True)\n",
    "adata.var_names_make_unique()\n",
    "Cells=pd.read_csv(output_path + 'Scrublet_results.csv', index_col='barcode')\n",
    "adata.obs['predicted_doublets']=Cells['predicted_doublets']\n",
    "SAS=adata[adata.obs['predicted_doublets']==False]\n",
    "SAS.write(output_path + 'raw_after_SoupX_Scrublet.h5ad', compression='gzip')\n",
    "\n"
   ]
  },
  {
   "cell_type": "code",
   "execution_count": 4,
   "id": "a94ce516",
   "metadata": {},
   "outputs": [
    {
     "name": "stderr",
     "output_type": "stream",
     "text": [
      "\r\n",
      "Processing folders...:   0%|                                                         | 0/2 [00:00<?, ?it/s]"
     ]
    },
    {
     "name": "stdout",
     "output_type": "stream",
     "text": [
      "Counts matrix shape: 9287 rows, 36601 columns\n",
      "Number of genes in gene list: 36601\n",
      "Preprocessing...\n",
      "Simulating doublets...\n",
      "Embedding transcriptomes using PCA...\n",
      "Calculating doublet scores...\n",
      "Automatically set threshold at doublet score = 0.59\n",
      "Detected doublet rate = 0.0%\n",
      "Estimated detectable doublet fraction = 0.3%\n",
      "Overall doublet rate:\n",
      "\tExpected   = 6.0%\n",
      "\tEstimated  = 3.6%\n",
      "Elapsed time: 18.1 seconds\n"
     ]
    },
    {
     "name": "stderr",
     "output_type": "stream",
     "text": [
      "\r\n",
      "Processing folders...:  50%|████████████████████████▌                        | 1/2 [01:27<01:27, 87.93s/it]"
     ]
    },
    {
     "name": "stdout",
     "output_type": "stream",
     "text": [
      "Counts matrix shape: 9250 rows, 36601 columns\n",
      "Number of genes in gene list: 36601\n",
      "Preprocessing...\n",
      "Simulating doublets...\n",
      "Embedding transcriptomes using PCA...\n",
      "Calculating doublet scores...\n",
      "Automatically set threshold at doublet score = 0.67\n",
      "Detected doublet rate = 0.0%\n",
      "Estimated detectable doublet fraction = 0.1%\n",
      "Overall doublet rate:\n",
      "\tExpected   = 6.0%\n",
      "\tEstimated  = 0.0%\n",
      "Elapsed time: 17.1 seconds\n"
     ]
    },
    {
     "name": "stderr",
     "output_type": "stream",
     "text": [
      "Processing folders...: 100%|█████████████████████████████████████████████████| 2/2 [02:53<00:00, 86.81s/it]\n"
     ]
    }
   ],
   "source": [
    "# Define the input and output directories\n",
    "input_dir = '/mnt/f/Xujianming_cellreport/{}'\n",
    "output_dir = '/mnt/f/Xujianming_cellreport/{}/'\n",
    "\n",
    "# List of folders to process\n",
    "srr_folders = [\n",
    "'SRR15465826', 'SRR15465827'\n",
    "]\n",
    "\n",
    "# Loop over all SRR folders, run Scrublet on each file, and save the results\n",
    "for srr_folder in tqdm(srr_folders, desc=\"Processing folders...\"):\n",
    "    try:\n",
    "        input_path = os.path.join(input_dir.format(srr_folder), 'filtered_feature_bc_matrix_SoupX_out')\n",
    "        output_path = output_dir.format(srr_folder)\n",
    "\n",
    "        # Load counts matrix and gene list\n",
    "        counts_matrix = scipy.io.mmread(os.path.join(input_path, 'matrix.mtx')).T.tocsc()\n",
    "        genes = np.array(scr.load_genes(os.path.join(input_path, 'genes.tsv'), delimiter='\\t', column=1))\n",
    "        print('Counts matrix shape: {} rows, {} columns'.format(counts_matrix.shape[0], counts_matrix.shape[1]))\n",
    "        print('Number of genes in gene list: {}'.format(len(genes)))\n",
    "\n",
    "        # Initialize Scrublet object\n",
    "        scrub = scr.Scrublet(counts_matrix=counts_matrix, sim_doublet_ratio=2.0, n_neighbors=None, expected_doublet_rate=0.06)\n",
    "\n",
    "        # Run the default pipeline\n",
    "        doublet_scores, predicted_doublets = scrub.scrub_doublets(min_counts=2, min_cells=3, min_gene_variability_pctl=85, n_prin_comps=30)\n",
    "\n",
    "        # Get 2-D embedding to visualize the results\n",
    "        scrub.set_embedding('UMAP', scr.get_umap(X=scrub.manifold_obs_, n_neighbors=10, min_dist=0.3))\n",
    "\n",
    "        # Export Scrublet results\n",
    "        barcodes = pd.read_csv(os.path.join(input_path, 'barcodes.tsv'), delimiter='\\t', header=None)\n",
    "        result = pd.DataFrame([barcodes.iloc[:,0], doublet_scores, predicted_doublets], index=[\"barcode\", \"doublet_scores\",\"predicted_doublets\"]).T\n",
    "        result.to_csv(output_path + 'Scrublet_results.csv')\n",
    "\n",
    "        # Save as h5ad after Scrublet\n",
    "        adata = sc.read_10x_mtx(path=input_path, var_names='gene_symbols', cache=True)\n",
    "        adata.var_names_make_unique()\n",
    "        Cells=pd.read_csv(output_path + 'Scrublet_results.csv', index_col='barcode')\n",
    "        adata.obs['predicted_doublets']=Cells['predicted_doublets']\n",
    "        SAS=adata[adata.obs['predicted_doublets']==False]\n",
    "        SAS.write(output_path + 'raw_after_SoupX_Scrublet.h5ad', compression='gzip')\n",
    "        # Clear memory\n",
    "        del counts_matrix, genes, scrub, doublet_scores, predicted_doublets, barcodes, result, adata, Cells\n",
    "        plt.close('all')\n",
    "        gc.collect()\n",
    "    except FileNotFoundError:\n",
    "        print(f\"File not found for {srr_folder}. Skipping...\")\n",
    "        continue\n",
    "\n"
   ]
  }
 ],
 "metadata": {
  "kernelspec": {
   "display_name": "scrublet",
   "language": "python",
   "name": "scrublet"
  },
  "language_info": {
   "codemirror_mode": {
    "name": "ipython",
    "version": 3
   },
   "file_extension": ".py",
   "mimetype": "text/x-python",
   "name": "python",
   "nbconvert_exporter": "python",
   "pygments_lexer": "ipython3",
   "version": "3.9.16"
  }
 },
 "nbformat": 4,
 "nbformat_minor": 5
}
